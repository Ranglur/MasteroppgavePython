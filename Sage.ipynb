{
 "cells": [
  {
   "cell_type": "code",
   "execution_count": 2,
   "metadata": {
    "vscode": {
     "languageId": "python"
    }
   },
   "outputs": [
    {
     "name": "stdout",
     "output_type": "stream",
     "text": [
      "Order of the group: 32\n",
      "Number of conjugacy classes: 17\n"
     ]
    }
   ],
   "source": [
    "# Create the group using GAP's SmallGroup function\n",
    "G = gap.SmallGroup(32, 50)\n",
    "\n",
    "# To work with this group in SageMath, use the `.sage()` method to convert GAP group objects\n",
    "# For example, to get the order of the group\n",
    "order = G.Order().sage()\n",
    "print(\"Order of the group:\", order)\n",
    "\n",
    "# If you want to find the number of conjugacy classes using GAP\n",
    "num_conjugacy_classes = G.ConjugacyClasses().Length().sage()\n",
    "print(\"Number of conjugacy classes:\", num_conjugacy_classes)"
   ]
  },
  {
   "cell_type": "markdown",
   "metadata": {},
   "source": [
    "So 49 or 50 has to be our group."
   ]
  },
  {
   "cell_type": "code",
   "execution_count": 1,
   "metadata": {
    "vscode": {
     "languageId": "python"
    }
   },
   "outputs": [
    {
     "name": "stdout",
     "output_type": "stream",
     "text": [
      "Number of subgroups for SmallGroup(32, 49): 110\n",
      "Number of subgroups for SmallGroup(32, 50): 78\n"
     ]
    }
   ],
   "source": [
    "# For SmallGroup(32, 49)\n",
    "G_49 = gap.SmallGroup(32, 49)\n",
    "subgroups_49 = G_49.AllSubgroups();\n",
    "num_subgroups_49 = subgroups_49.Length().sage()\n",
    "print(\"Number of subgroups for SmallGroup(32, 49):\", num_subgroups_49)\n",
    "\n",
    "# For SmallGroup(32, 50)\n",
    "G_50 = gap.SmallGroup(32, 50)\n",
    "subgroups_50 = G_50.AllSubgroups();\n",
    "num_subgroups_50 = subgroups_50.Length().sage()\n",
    "print(\"Number of subgroups for SmallGroup(32, 50):\", num_subgroups_50)"
   ]
  },
  {
   "cell_type": "markdown",
   "metadata": {},
   "source": [
    "Gap code:\n",
    "\n",
    "G := SmallGroup(32, 49); \n",
    "selfInverseElements := Filtered(Elements(G), g -> g^2 = Identity(G));\n",
    "numberOfSelfInverses := Length(selfInverseElements);\n",
    "Print(numberOfSelfInverses, \"\\n\");\n",
    "\n",
    "G := SmallGroup(32, 49);  # As an example\n",
    "conjugacyClasses := ConjugacyClasses(G);\n",
    "numberOfConjugacyClasses := Length(conjugacyClasses);\n",
    "Print(numberOfConjugacyClasses, \"\\n\");\n",
    "\n",
    "\n",
    "\n",
    "G := SmallGroup(32, 49);  # Example group\n",
    "tbl := CharacterTable(G);"
   ]
  },
  {
   "cell_type": "code",
   "execution_count": 1,
   "metadata": {
    "vscode": {
     "languageId": "python"
    }
   },
   "outputs": [
    {
     "ename": "RuntimeError",
     "evalue": "Gap produced error output\nError, no method found! For debugging hints type ?Recovery from NoMethodFound\nError, no 1st choice method found for `Length' on 1 arguments\n\n   executing __SAGE_LAST__:=\"__SAGE_LAST__\";;Length(\\$sage3);;",
     "output_type": "error",
     "traceback": [
      "\u001b[0;31m---------------------------------------------------------------------------\u001b[0m",
      "\u001b[0;31mRuntimeError\u001b[0m                              Traceback (most recent call last)",
      "File \u001b[0;32m~/anaconda3/envs/sage/lib/python3.11/site-packages/sage/interfaces/gap.py:691\u001b[0m, in \u001b[0;36mGap_generic._eval_line\u001b[0;34m(self, line, allow_use_file, wait_for_prompt, restart_if_needed)\u001b[0m\n\u001b[1;32m    690\u001b[0m     error \u001b[38;5;241m=\u001b[39m error\u001b[38;5;241m.\u001b[39mreplace(\u001b[38;5;124m'\u001b[39m\u001b[38;5;130;01m\\r\u001b[39;00m\u001b[38;5;124m'\u001b[39m,\u001b[38;5;124m'\u001b[39m\u001b[38;5;124m'\u001b[39m)\n\u001b[0;32m--> 691\u001b[0m     \u001b[38;5;28;01mraise\u001b[39;00m \u001b[38;5;167;01mRuntimeError\u001b[39;00m(\u001b[38;5;124m\"\u001b[39m\u001b[38;5;132;01m%s\u001b[39;00m\u001b[38;5;124m produced error output\u001b[39m\u001b[38;5;130;01m\\n\u001b[39;00m\u001b[38;5;132;01m%s\u001b[39;00m\u001b[38;5;130;01m\\n\u001b[39;00m\u001b[38;5;124m   executing \u001b[39m\u001b[38;5;132;01m%s\u001b[39;00m\u001b[38;5;124m\"\u001b[39m \u001b[38;5;241m%\u001b[39m (\u001b[38;5;28mself\u001b[39m, error,line))\n\u001b[1;32m    692\u001b[0m \u001b[38;5;28;01mif\u001b[39;00m \u001b[38;5;129;01mnot\u001b[39;00m normal:\n",
      "\u001b[0;31mRuntimeError\u001b[0m: Gap produced error output\nError, no method found! For debugging hints type ?Recovery from NoMethodFound\nError, no 1st choice method found for `Length' on 1 arguments\n\n   executing __SAGE_LAST__:=\"__SAGE_LAST__\";;Length(\\$sage3);;",
      "\nDuring handling of the above exception, another exception occurred:\n",
      "\u001b[0;31mRuntimeError\u001b[0m                              Traceback (most recent call last)",
      "Cell \u001b[0;32mIn[1], line 17\u001b[0m\n\u001b[1;32m     14\u001b[0m     \u001b[38;5;28;01mreturn\u001b[39;00m self_inverse\n\u001b[1;32m     16\u001b[0m G_49 \u001b[38;5;241m=\u001b[39m gap\u001b[38;5;241m.\u001b[39mSmallGroup(Integer(\u001b[38;5;241m32\u001b[39m), Integer(\u001b[38;5;241m49\u001b[39m))\n\u001b[0;32m---> 17\u001b[0m \u001b[43mprint_multiplication_table\u001b[49m\u001b[43m(\u001b[49m\u001b[43mG_49\u001b[49m\u001b[43m)\u001b[49m\n",
      "Cell \u001b[0;32mIn[1], line 2\u001b[0m, in \u001b[0;36mprint_multiplication_table\u001b[0;34m(G)\u001b[0m\n\u001b[1;32m      1\u001b[0m \u001b[38;5;28;01mdef\u001b[39;00m \u001b[38;5;21mprint_multiplication_table\u001b[39m(G):\n\u001b[0;32m----> 2\u001b[0m     elements \u001b[38;5;241m=\u001b[39m \u001b[38;5;28;43mlist\u001b[39;49m\u001b[43m(\u001b[49m\u001b[43mG\u001b[49m\u001b[43m)\u001b[49m\n\u001b[1;32m      3\u001b[0m     \u001b[38;5;28mprint\u001b[39m(\u001b[38;5;124m\"\u001b[39m\u001b[38;5;124mMultiplication Table:\u001b[39m\u001b[38;5;124m\"\u001b[39m)\n\u001b[1;32m      4\u001b[0m     \u001b[38;5;28;01mfor\u001b[39;00m i, e1 \u001b[38;5;129;01min\u001b[39;00m \u001b[38;5;28menumerate\u001b[39m(elements):\n",
      "File \u001b[0;32m~/anaconda3/envs/sage/lib/python3.11/site-packages/sage/interfaces/gap.py:986\u001b[0m, in \u001b[0;36mGapElement_generic.__len__\u001b[0;34m(self)\u001b[0m\n\u001b[1;32m    984\u001b[0m     \u001b[38;5;28;01mreturn\u001b[39;00m \u001b[38;5;241m0\u001b[39m\n\u001b[1;32m    985\u001b[0m \u001b[38;5;28;01melse\u001b[39;00m:\n\u001b[0;32m--> 986\u001b[0m     \u001b[38;5;28;01mreturn\u001b[39;00m \u001b[38;5;28mint\u001b[39m(\u001b[38;5;28;43mself\u001b[39;49m\u001b[38;5;241;43m.\u001b[39;49m\u001b[43mLength\u001b[49m\u001b[43m(\u001b[49m\u001b[43m)\u001b[49m)\n",
      "File \u001b[0;32m~/anaconda3/envs/sage/lib/python3.11/site-packages/sage/interfaces/interface.py:696\u001b[0m, in \u001b[0;36mInterfaceFunctionElement.__call__\u001b[0;34m(self, *args, **kwds)\u001b[0m\n\u001b[1;32m    695\u001b[0m \u001b[38;5;28;01mdef\u001b[39;00m \u001b[38;5;21m__call__\u001b[39m(\u001b[38;5;28mself\u001b[39m, \u001b[38;5;241m*\u001b[39margs, \u001b[38;5;241m*\u001b[39m\u001b[38;5;241m*\u001b[39mkwds):\n\u001b[0;32m--> 696\u001b[0m     \u001b[38;5;28;01mreturn\u001b[39;00m \u001b[38;5;28;43mself\u001b[39;49m\u001b[38;5;241;43m.\u001b[39;49m\u001b[43m_obj\u001b[49m\u001b[38;5;241;43m.\u001b[39;49m\u001b[43mparent\u001b[49m\u001b[43m(\u001b[49m\u001b[43m)\u001b[49m\u001b[38;5;241;43m.\u001b[39;49m\u001b[43mfunction_call\u001b[49m\u001b[43m(\u001b[49m\u001b[38;5;28;43mself\u001b[39;49m\u001b[38;5;241;43m.\u001b[39;49m\u001b[43m_name\u001b[49m\u001b[43m,\u001b[49m\u001b[43m \u001b[49m\u001b[43m[\u001b[49m\u001b[38;5;28;43mself\u001b[39;49m\u001b[38;5;241;43m.\u001b[39;49m\u001b[43m_obj\u001b[49m\u001b[43m]\u001b[49m\u001b[43m \u001b[49m\u001b[38;5;241;43m+\u001b[39;49m\u001b[43m \u001b[49m\u001b[38;5;28;43mlist\u001b[39;49m\u001b[43m(\u001b[49m\u001b[43margs\u001b[49m\u001b[43m)\u001b[49m\u001b[43m,\u001b[49m\u001b[43m \u001b[49m\u001b[43mkwds\u001b[49m\u001b[43m)\u001b[49m\n",
      "File \u001b[0;32m~/anaconda3/envs/sage/lib/python3.11/site-packages/sage/interfaces/gap.py:874\u001b[0m, in \u001b[0;36mGap_generic.function_call\u001b[0;34m(self, function, args, kwds)\u001b[0m\n\u001b[1;32m    869\u001b[0m cmd \u001b[38;5;241m=\u001b[39m \u001b[38;5;124m\"\u001b[39m\u001b[38;5;132;01m%s\u001b[39;00m\u001b[38;5;124m(\u001b[39m\u001b[38;5;132;01m%s\u001b[39;00m\u001b[38;5;124m);;\u001b[39m\u001b[38;5;124m\"\u001b[39m \u001b[38;5;241m%\u001b[39m (function, \u001b[38;5;124m\"\u001b[39m\u001b[38;5;124m,\u001b[39m\u001b[38;5;124m\"\u001b[39m\u001b[38;5;241m.\u001b[39mjoin([s\u001b[38;5;241m.\u001b[39mname() \u001b[38;5;28;01mfor\u001b[39;00m s \u001b[38;5;129;01min\u001b[39;00m args] \u001b[38;5;241m+\u001b[39m\n\u001b[1;32m    870\u001b[0m         [\u001b[38;5;124m'\u001b[39m\u001b[38;5;132;01m%s\u001b[39;00m\u001b[38;5;124m=\u001b[39m\u001b[38;5;132;01m%s\u001b[39;00m\u001b[38;5;124m'\u001b[39m \u001b[38;5;241m%\u001b[39m (key,value\u001b[38;5;241m.\u001b[39mname()) \u001b[38;5;28;01mfor\u001b[39;00m key, value \u001b[38;5;129;01min\u001b[39;00m kwds\u001b[38;5;241m.\u001b[39mitems()]))\n\u001b[1;32m    871\u001b[0m \u001b[38;5;28;01mif\u001b[39;00m \u001b[38;5;28mlen\u001b[39m(marker) \u001b[38;5;241m+\u001b[39m \u001b[38;5;28mlen\u001b[39m(cmd) \u001b[38;5;241m<\u001b[39m\u001b[38;5;241m=\u001b[39m \u001b[38;5;28mself\u001b[39m\u001b[38;5;241m.\u001b[39m_eval_using_file_cutoff:\n\u001b[1;32m    872\u001b[0m     \u001b[38;5;66;03m# We combine the two commands so we only run eval() once and the\u001b[39;00m\n\u001b[1;32m    873\u001b[0m     \u001b[38;5;66;03m#   only output would be from the second command\u001b[39;00m\n\u001b[0;32m--> 874\u001b[0m     res \u001b[38;5;241m=\u001b[39m \u001b[38;5;28;43mself\u001b[39;49m\u001b[38;5;241;43m.\u001b[39;49m\u001b[43meval\u001b[49m\u001b[43m(\u001b[49m\u001b[43mmarker\u001b[49m\u001b[38;5;241;43m+\u001b[39;49m\u001b[43mcmd\u001b[49m\u001b[43m)\u001b[49m\n\u001b[1;32m    875\u001b[0m \u001b[38;5;28;01melse\u001b[39;00m:\n\u001b[1;32m    876\u001b[0m     \u001b[38;5;28mself\u001b[39m\u001b[38;5;241m.\u001b[39meval(marker)\n",
      "File \u001b[0;32m~/anaconda3/envs/sage/lib/python3.11/site-packages/sage/interfaces/gap.py:517\u001b[0m, in \u001b[0;36mGap_generic.eval\u001b[0;34m(self, x, newlines, strip, split_lines, **kwds)\u001b[0m\n\u001b[1;32m    515\u001b[0m     \u001b[38;5;28;01mif\u001b[39;00m \u001b[38;5;129;01mnot\u001b[39;00m input_line\u001b[38;5;241m.\u001b[39mendswith(\u001b[38;5;124m'\u001b[39m\u001b[38;5;124m;\u001b[39m\u001b[38;5;124m'\u001b[39m):\n\u001b[1;32m    516\u001b[0m         input_line \u001b[38;5;241m+\u001b[39m\u001b[38;5;241m=\u001b[39m \u001b[38;5;124m'\u001b[39m\u001b[38;5;124m;\u001b[39m\u001b[38;5;124m'\u001b[39m\n\u001b[0;32m--> 517\u001b[0m result \u001b[38;5;241m=\u001b[39m \u001b[43mExpect\u001b[49m\u001b[38;5;241;43m.\u001b[39;49m\u001b[43meval\u001b[49m\u001b[43m(\u001b[49m\u001b[38;5;28;43mself\u001b[39;49m\u001b[43m,\u001b[49m\u001b[43m \u001b[49m\u001b[43minput_line\u001b[49m\u001b[43m,\u001b[49m\u001b[43m \u001b[49m\u001b[38;5;241;43m*\u001b[39;49m\u001b[38;5;241;43m*\u001b[39;49m\u001b[43mkwds\u001b[49m\u001b[43m)\u001b[49m\n\u001b[1;32m    518\u001b[0m \u001b[38;5;28;01mif\u001b[39;00m \u001b[38;5;129;01mnot\u001b[39;00m newlines:\n\u001b[1;32m    519\u001b[0m     result \u001b[38;5;241m=\u001b[39m result\u001b[38;5;241m.\u001b[39mreplace(\u001b[38;5;124m\"\u001b[39m\u001b[38;5;130;01m\\\\\u001b[39;00m\u001b[38;5;130;01m\\n\u001b[39;00m\u001b[38;5;124m\"\u001b[39m,\u001b[38;5;124m\"\u001b[39m\u001b[38;5;124m\"\u001b[39m)\n",
      "File \u001b[0;32m~/anaconda3/envs/sage/lib/python3.11/site-packages/sage/interfaces/expect.py:1390\u001b[0m, in \u001b[0;36mExpect.eval\u001b[0;34m(self, code, strip, synchronize, locals, allow_use_file, split_lines, **kwds)\u001b[0m\n\u001b[1;32m   1388\u001b[0m     \u001b[38;5;28;01mreturn\u001b[39;00m \u001b[38;5;28mself\u001b[39m\u001b[38;5;241m.\u001b[39m_eval_line_using_file(code)\n\u001b[1;32m   1389\u001b[0m \u001b[38;5;28;01melif\u001b[39;00m split_lines:\n\u001b[0;32m-> 1390\u001b[0m     \u001b[38;5;28;01mreturn\u001b[39;00m \u001b[38;5;124;43m'\u001b[39;49m\u001b[38;5;130;43;01m\\n\u001b[39;49;00m\u001b[38;5;124;43m'\u001b[39;49m\u001b[38;5;241;43m.\u001b[39;49m\u001b[43mjoin\u001b[49m\u001b[43m(\u001b[49m\u001b[38;5;28;43mself\u001b[39;49m\u001b[38;5;241;43m.\u001b[39;49m\u001b[43m_eval_line\u001b[49m\u001b[43m(\u001b[49m\u001b[43mL\u001b[49m\u001b[43m,\u001b[49m\u001b[43m \u001b[49m\u001b[43mallow_use_file\u001b[49m\u001b[38;5;241;43m=\u001b[39;49m\u001b[43mallow_use_file\u001b[49m\u001b[43m,\u001b[49m\u001b[43m \u001b[49m\u001b[38;5;241;43m*\u001b[39;49m\u001b[38;5;241;43m*\u001b[39;49m\u001b[43mkwds\u001b[49m\u001b[43m)\u001b[49m\n\u001b[1;32m   1391\u001b[0m \u001b[43m                     \u001b[49m\u001b[38;5;28;43;01mfor\u001b[39;49;00m\u001b[43m \u001b[49m\u001b[43mL\u001b[49m\u001b[43m \u001b[49m\u001b[38;5;129;43;01min\u001b[39;49;00m\u001b[43m \u001b[49m\u001b[43mcode\u001b[49m\u001b[38;5;241;43m.\u001b[39;49m\u001b[43msplit\u001b[49m\u001b[43m(\u001b[49m\u001b[38;5;124;43m'\u001b[39;49m\u001b[38;5;130;43;01m\\n\u001b[39;49;00m\u001b[38;5;124;43m'\u001b[39;49m\u001b[43m)\u001b[49m\u001b[43m \u001b[49m\u001b[38;5;28;43;01mif\u001b[39;49;00m\u001b[43m \u001b[49m\u001b[43mL\u001b[49m\u001b[43m)\u001b[49m\n\u001b[1;32m   1392\u001b[0m \u001b[38;5;28;01melse\u001b[39;00m:\n\u001b[1;32m   1393\u001b[0m     \u001b[38;5;28;01mreturn\u001b[39;00m \u001b[38;5;28mself\u001b[39m\u001b[38;5;241m.\u001b[39m_eval_line(code, allow_use_file\u001b[38;5;241m=\u001b[39mallow_use_file, \u001b[38;5;241m*\u001b[39m\u001b[38;5;241m*\u001b[39mkwds)\n",
      "File \u001b[0;32m~/anaconda3/envs/sage/lib/python3.11/site-packages/sage/interfaces/expect.py:1390\u001b[0m, in \u001b[0;36m<genexpr>\u001b[0;34m(.0)\u001b[0m\n\u001b[1;32m   1388\u001b[0m     \u001b[38;5;28;01mreturn\u001b[39;00m \u001b[38;5;28mself\u001b[39m\u001b[38;5;241m.\u001b[39m_eval_line_using_file(code)\n\u001b[1;32m   1389\u001b[0m \u001b[38;5;28;01melif\u001b[39;00m split_lines:\n\u001b[0;32m-> 1390\u001b[0m     \u001b[38;5;28;01mreturn\u001b[39;00m \u001b[38;5;124m'\u001b[39m\u001b[38;5;130;01m\\n\u001b[39;00m\u001b[38;5;124m'\u001b[39m\u001b[38;5;241m.\u001b[39mjoin(\u001b[38;5;28;43mself\u001b[39;49m\u001b[38;5;241;43m.\u001b[39;49m\u001b[43m_eval_line\u001b[49m\u001b[43m(\u001b[49m\u001b[43mL\u001b[49m\u001b[43m,\u001b[49m\u001b[43m \u001b[49m\u001b[43mallow_use_file\u001b[49m\u001b[38;5;241;43m=\u001b[39;49m\u001b[43mallow_use_file\u001b[49m\u001b[43m,\u001b[49m\u001b[43m \u001b[49m\u001b[38;5;241;43m*\u001b[39;49m\u001b[38;5;241;43m*\u001b[39;49m\u001b[43mkwds\u001b[49m\u001b[43m)\u001b[49m\n\u001b[1;32m   1391\u001b[0m                      \u001b[38;5;28;01mfor\u001b[39;00m L \u001b[38;5;129;01min\u001b[39;00m code\u001b[38;5;241m.\u001b[39msplit(\u001b[38;5;124m'\u001b[39m\u001b[38;5;130;01m\\n\u001b[39;00m\u001b[38;5;124m'\u001b[39m) \u001b[38;5;28;01mif\u001b[39;00m L)\n\u001b[1;32m   1392\u001b[0m \u001b[38;5;28;01melse\u001b[39;00m:\n\u001b[1;32m   1393\u001b[0m     \u001b[38;5;28;01mreturn\u001b[39;00m \u001b[38;5;28mself\u001b[39m\u001b[38;5;241m.\u001b[39m_eval_line(code, allow_use_file\u001b[38;5;241m=\u001b[39mallow_use_file, \u001b[38;5;241m*\u001b[39m\u001b[38;5;241m*\u001b[39mkwds)\n",
      "File \u001b[0;32m~/anaconda3/envs/sage/lib/python3.11/site-packages/sage/interfaces/gap.py:725\u001b[0m, in \u001b[0;36mGap_generic._eval_line\u001b[0;34m(self, line, allow_use_file, wait_for_prompt, restart_if_needed)\u001b[0m\n\u001b[1;32m    723\u001b[0m             \u001b[38;5;28;01mreturn\u001b[39;00m \u001b[38;5;124m'\u001b[39m\u001b[38;5;124m'\u001b[39m\n\u001b[1;32m    724\u001b[0m     \u001b[38;5;28;01melse\u001b[39;00m:\n\u001b[0;32m--> 725\u001b[0m         \u001b[38;5;28;01mraise\u001b[39;00m \u001b[38;5;167;01mRuntimeError\u001b[39;00m(exc)\n\u001b[1;32m    727\u001b[0m \u001b[38;5;28;01mexcept\u001b[39;00m \u001b[38;5;167;01mKeyboardInterrupt\u001b[39;00m:\n\u001b[1;32m    728\u001b[0m     \u001b[38;5;28mself\u001b[39m\u001b[38;5;241m.\u001b[39m_keyboard_interrupt()\n",
      "\u001b[0;31mRuntimeError\u001b[0m: Gap produced error output\nError, no method found! For debugging hints type ?Recovery from NoMethodFound\nError, no 1st choice method found for `Length' on 1 arguments\n\n   executing __SAGE_LAST__:=\"__SAGE_LAST__\";;Length(\\$sage3);;"
     ]
    }
   ],
   "source": [
    "def print_multiplication_table(G):\n",
    "    elements = list(G)\n",
    "    print(\"Multiplication Table:\")\n",
    "    for i, e1 in enumerate(elements):\n",
    "        for j, e2 in enumerate(elements):\n",
    "            # Multiplication within SageMath's group context\n",
    "            product = e1 * e2\n",
    "            print(f\"{e1} * {e2} = {product}\")\n",
    "        print()  # Newline for readability\n",
    "\n",
    "def find_self_inverse_elements(G):\n",
    "    elements = list(G)\n",
    "    self_inverse = [e for e in elements if e*e == G.one()]\n",
    "    return self_inverse\n",
    "\n",
    "G_49 = gap.SmallGroup(32, 49)\n",
    "print_multiplication_table(G_49)"
   ]
  }
 ],
 "metadata": {
  "kernelspec": {
   "display_name": "SageMath 10.2",
   "language": "sage",
   "name": "sagemath"
  },
  "language_info": {
   "codemirror_mode": {
    "name": "ipython",
    "version": 3
   },
   "file_extension": ".py",
   "mimetype": "text/x-python",
   "name": "sage",
   "nbconvert_exporter": "python",
   "pygments_lexer": "ipython3",
   "version": "3.11.2"
  }
 },
 "nbformat": 4,
 "nbformat_minor": 2
}
